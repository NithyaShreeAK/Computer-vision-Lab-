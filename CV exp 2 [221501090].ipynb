{
 "cells": [
  {
   "cell_type": "code",
   "execution_count": 1,
   "id": "d12eadf8",
   "metadata": {},
   "outputs": [
    {
     "name": "stdout",
     "output_type": "stream",
     "text": [
      "\u001b[1mDownloading and preparing dataset Unknown size (download: Unknown size, generated: Unknown size, total: Unknown size) to C:\\Users\\AI_LAB\\tensorflow_datasets\\mnist\\3.0.1...\u001b[0m\n"
     ]
    },
    {
     "data": {
      "application/vnd.jupyter.widget-view+json": {
       "model_id": "a4464f1d2c704fd3803803b63fe6043a",
       "version_major": 2,
       "version_minor": 0
      },
      "text/plain": [
       "Dl Completed...: 0 url [00:00, ? url/s]"
      ]
     },
     "metadata": {},
     "output_type": "display_data"
    },
    {
     "data": {
      "application/vnd.jupyter.widget-view+json": {
       "model_id": "732df9d3269147bca0ce207ef4c7dee5",
       "version_major": 2,
       "version_minor": 0
      },
      "text/plain": [
       "Dl Size...: 0 MiB [00:00, ? MiB/s]"
      ]
     },
     "metadata": {},
     "output_type": "display_data"
    },
    {
     "data": {
      "application/vnd.jupyter.widget-view+json": {
       "model_id": "d520a235b0e0451abeeed25cebcb88a7",
       "version_major": 2,
       "version_minor": 0
      },
      "text/plain": [
       "Extraction completed...: 0 file [00:00, ? file/s]"
      ]
     },
     "metadata": {},
     "output_type": "display_data"
    },
    {
     "data": {
      "application/vnd.jupyter.widget-view+json": {
       "model_id": "",
       "version_major": 2,
       "version_minor": 0
      },
      "text/plain": [
       "Generating splits...:   0%|          | 0/2 [00:00<?, ? splits/s]"
      ]
     },
     "metadata": {},
     "output_type": "display_data"
    },
    {
     "data": {
      "application/vnd.jupyter.widget-view+json": {
       "model_id": "",
       "version_major": 2,
       "version_minor": 0
      },
      "text/plain": [
       "Generating train examples...: 0 examples [00:00, ? examples/s]"
      ]
     },
     "metadata": {},
     "output_type": "display_data"
    },
    {
     "data": {
      "application/vnd.jupyter.widget-view+json": {
       "model_id": "",
       "version_major": 2,
       "version_minor": 0
      },
      "text/plain": [
       "Shuffling C:\\Users\\AI_LAB\\tensorflow_datasets\\mnist\\incomplete.Q9GESC_3.0.1\\mnist-train.tfrecord*...:   0%|   …"
      ]
     },
     "metadata": {},
     "output_type": "display_data"
    },
    {
     "data": {
      "application/vnd.jupyter.widget-view+json": {
       "model_id": "",
       "version_major": 2,
       "version_minor": 0
      },
      "text/plain": [
       "Generating test examples...: 0 examples [00:00, ? examples/s]"
      ]
     },
     "metadata": {},
     "output_type": "display_data"
    },
    {
     "data": {
      "application/vnd.jupyter.widget-view+json": {
       "model_id": "",
       "version_major": 2,
       "version_minor": 0
      },
      "text/plain": [
       "Shuffling C:\\Users\\AI_LAB\\tensorflow_datasets\\mnist\\incomplete.Q9GESC_3.0.1\\mnist-test.tfrecord*...:   0%|    …"
      ]
     },
     "metadata": {},
     "output_type": "display_data"
    },
    {
     "name": "stdout",
     "output_type": "stream",
     "text": [
      "\u001b[1mDataset mnist downloaded and prepared to C:\\Users\\AI_LAB\\tensorflow_datasets\\mnist\\3.0.1. Subsequent calls will reuse this data.\u001b[0m\n",
      "Available splits: dict_keys([Split('train'), Split('test')])\n",
      "Dataset loaded and preprocessed successfully!\n",
      "Training started...\n",
      "\u001b[1m7500/7500\u001b[0m \u001b[32m━━━━━━━━━━━━━━━━━━━━\u001b[0m\u001b[37m\u001b[0m \u001b[1m44s\u001b[0m 6ms/step - accuracy: 0.9866 - loss: 0.0380 - val_accuracy: 0.9969 - val_loss: 0.0074\n",
      "\u001b[1m1/1\u001b[0m \u001b[32m━━━━━━━━━━━━━━━━━━━━\u001b[0m\u001b[37m\u001b[0m \u001b[1m0s\u001b[0m 55ms/step\n"
     ]
    },
    {
     "data": {
      "image/png": "[encoded data removed]",
      "text/plain": [
       "<Figure size 1000x500 with 3 Axes>"
      ]
     },
     "metadata": {},
     "output_type": "display_data"
    }
   ],
   "source": [
    "import tensorflow as tf\n",
    "import tensorflow_datasets as tfds\n",
    "import matplotlib.pyplot as plt\n",
    "\n",
    "# Load the MNIST dataset\n",
    "dataset, info = tfds.load(\"mnist\", with_info=True, as_supervised=True)\n",
    "\n",
    "print(\"Available splits:\", dataset.keys())  # Should print ['train', 'test']\n",
    "\n",
    "# Preprocessing function (convert to segmentation format)\n",
    "def normalize(input_image, input_mask):\n",
    "    input_image = tf.image.resize(input_image, (32, 32)) / 255.0  # Resize to 32x32 for faster training\n",
    "    input_mask = tf.where(input_image > 0.5, 1, 0)  # Convert image to binary mask\n",
    "    return input_image, input_mask\n",
    "\n",
    "def load_image(image, label):  # Ignore label since MNIST is normally classification\n",
    "    return normalize(tf.cast(image, tf.float32), tf.cast(image, tf.uint8))\n",
    "\n",
    "# Prepare dataset with a smaller batch size and resized images\n",
    "train_data = dataset['train'].map(load_image).shuffle(1000).batch(8)  # Reduced batch size to 8\n",
    "test_data = dataset['test'].map(load_image).batch(8)\n",
    "\n",
    "print(\"Dataset loaded and preprocessed successfully!\")\n",
    "\n",
    "# Define a very simple CNN model (further reduced complexity)\n",
    "def simple_cnn():\n",
    "    inputs = tf.keras.layers.Input(shape=(32, 32, 1))  # Adjusted for 32x32 input\n",
    "\n",
    "    # A very simple CNN with fewer filters\n",
    "    conv1 = tf.keras.layers.Conv2D(16, (3, 3), activation='relu', padding='same')(inputs)\n",
    "    pool1 = tf.keras.layers.MaxPooling2D((2, 2))(conv1)\n",
    "\n",
    "    conv2 = tf.keras.layers.Conv2D(32, (3, 3), activation='relu', padding='same')(pool1)\n",
    "    pool2 = tf.keras.layers.MaxPooling2D((2, 2))(conv2)\n",
    "\n",
    "    conv3 = tf.keras.layers.Conv2D(64, (3, 3), activation='relu', padding='same')(pool2)\n",
    "\n",
    "    # Decoder (use transpose convolution for upsampling)\n",
    "    up4 = tf.keras.layers.Conv2DTranspose(32, (3, 3), strides=(2, 2), padding='same', activation='relu')(conv3)\n",
    "    concat4 = tf.keras.layers.Concatenate()([up4, conv2])\n",
    "\n",
    "    up5 = tf.keras.layers.Conv2DTranspose(16, (3, 3), strides=(2, 2), padding='same', activation='relu')(concat4)\n",
    "    concat5 = tf.keras.layers.Concatenate()([up5, conv1])\n",
    "\n",
    "    outputs = tf.keras.layers.Conv2D(1, (1, 1), activation='sigmoid')(concat5)  # Binary segmentation\n",
    "\n",
    "    model = tf.keras.Model(inputs, outputs)\n",
    "    return model\n",
    "\n",
    "# Compile model\n",
    "model = simple_cnn()\n",
    "model.compile(optimizer='adam', loss='binary_crossentropy', metrics=['accuracy'])\n",
    "\n",
    "# Train model with fewer epochs for faster results\n",
    "print(\"Training started...\")\n",
    "model.fit(train_data, epochs=1, validation_data=test_data)  # Reduced to 1 epoch for faster results\n",
    "\n",
    "# Predict and visualize\n",
    "def display_sample(dataset):\n",
    "    for image, mask in dataset.take(1):\n",
    "        pred_mask = model.predict(image)\n",
    "        plt.figure(figsize=(10, 5))\n",
    "\n",
    "        plt.subplot(1, 3, 1)\n",
    "        plt.imshow(image[0, :, :, 0], cmap='gray')\n",
    "        plt.title(\"Input Image\")\n",
    "\n",
    "        plt.subplot(1, 3, 2)\n",
    "        plt.imshow(mask[0, :, :, 0], cmap='gray')\n",
    "        plt.title(\"True Mask\")\n",
    "\n",
    "        plt.subplot(1, 3, 3)\n",
    "        plt.imshow(pred_mask[0, :, :, 0], cmap='gray')\n",
    "        plt.title(\"Predicted Mask\")\n",
    "\n",
    "        plt.show()\n",
    "        break\n",
    "\n",
    "# Visualize results\n",
    "display_sample(test_data)"
   ]
  },
  {
   "cell_type": "code",
   "execution_count": 2,
   "id": "f1972a73",
   "metadata": {},
   "outputs": [
    {
     "name": "stderr",
     "output_type": "stream",
     "text": [
      "C:\\Users\\AI_LAB\\anaconda3\\lib\\site-packages\\keras\\src\\layers\\convolutional\\base_conv.py:107: UserWarning: Do not pass an `input_shape`/`input_dim` argument to a layer. When using Sequential models, prefer using an `Input(shape)` object as the first layer in the model instead.\n",
      "  super().__init__(activity_regularizer=activity_regularizer, **kwargs)\n"
     ]
    },
    {
     "name": "stdout",
     "output_type": "stream",
     "text": [
      "Training started...\n",
      "\u001b[1m7500/7500\u001b[0m \u001b[32m━━━━━━━━━━━━━━━━━━━━\u001b[0m\u001b[37m\u001b[0m \u001b[1m27s\u001b[0m 3ms/step - accuracy: 0.9329 - loss: 0.2119 - val_accuracy: 0.9841 - val_loss: 0.0497\n",
      "\u001b[1m1/1\u001b[0m \u001b[32m━━━━━━━━━━━━━━━━━━━━\u001b[0m\u001b[37m\u001b[0m \u001b[1m0s\u001b[0m 53ms/step\n"
     ]
    },
    {
     "data": {
      "image/png": "[encoded data removed]",
      "text/plain": [
       "<Figure size 1000x500 with 8 Axes>"
      ]
     },
     "metadata": {},
     "output_type": "display_data"
    }
   ],
   "source": [
    "import tensorflow as tf\n",
    "import tensorflow_datasets as tfds\n",
    "import matplotlib.pyplot as plt\n",
    "\n",
    "# Load the MNIST dataset\n",
    "dataset, info = tfds.load(\"mnist\", with_info=True, as_supervised=True)\n",
    "\n",
    "# Preprocess images\n",
    "def preprocess(image, label):\n",
    "    image = tf.image.resize(image, (32, 32)) / 255.0  # Normalize pixel values\n",
    "    return image, label\n",
    "\n",
    "# Prepare the dataset\n",
    "train_data = dataset['train'].map(preprocess).shuffle(1000).batch(8)\n",
    "test_data = dataset['test'].map(preprocess).batch(8)\n",
    "\n",
    "# Define a simple CNN for digit classification\n",
    "def build_cnn():\n",
    "    model = tf.keras.Sequential([\n",
    "        tf.keras.layers.Conv2D(32, (3, 3), activation='relu', input_shape=(32, 32, 1)),\n",
    "        tf.keras.layers.MaxPooling2D((2, 2)),\n",
    "        tf.keras.layers.Conv2D(64, (3, 3), activation='relu'),\n",
    "        tf.keras.layers.MaxPooling2D((2, 2)),\n",
    "        tf.keras.layers.Flatten(),\n",
    "        tf.keras.layers.Dense(128, activation='relu'),\n",
    "        tf.keras.layers.Dense(10, activation='softmax')  # 10 classes for digits 0-9\n",
    "    ])\n",
    "    return model\n",
    "\n",
    "# Compile and train the model\n",
    "model = build_cnn()\n",
    "model.compile(optimizer='adam', loss='sparse_categorical_crossentropy', metrics=['accuracy'])\n",
    "\n",
    "print(\"Training started...\")\n",
    "model.fit(train_data, epochs=1, validation_data=test_data)  # Train for 1 epoch\n",
    "\n",
    "# Display sample predictions\n",
    "def display_sample_predictions(dataset):\n",
    "    for image_batch, label_batch in dataset.take(1):\n",
    "        predictions = model.predict(image_batch)\n",
    "        plt.figure(figsize=(10, 5))\n",
    "\n",
    "        for i in range(8):  # Show predictions for the first 8 samples\n",
    "            plt.subplot(2, 4, i + 1)\n",
    "            plt.imshow(image_batch[i, :, :, 0], cmap='gray')\n",
    "            plt.title(f\"True: {label_batch[i]}, Pred: {tf.argmax(predictions[i])}\")\n",
    "            plt.axis('off')\n",
    "\n",
    "        plt.show()\n",
    "        break\n",
    "\n",
    "# Visualize predictions\n",
    "display_sample_predictions(test_data)\n"
   ]
  },
  {
   "cell_type": "code",
   "execution_count": null,
   "id": "9229f643",
   "metadata": {},
   "outputs": [],
   "source": []
  }
 ],
 "metadata": {
  "kernelspec": {
   "display_name": "Python 3 (ipykernel)",
   "language": "python",
   "name": "python3"
  },
  "language_info": {
   "codemirror_mode": {
    "name": "ipython",
    "version": 3
   },
   "file_extension": ".py",
   "mimetype": "text/x-python",
   "name": "python",
   "nbconvert_exporter": "python",
   "pygments_lexer": "ipython3",
   "version": "3.10.9"
  }
 },
 "nbformat": 4,
 "nbformat_minor": 5
}
